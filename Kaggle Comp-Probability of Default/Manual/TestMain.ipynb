{
 "cells": [
  {
   "cell_type": "code",
   "execution_count": 3,
   "id": "f6f016c6-64d2-4f15-99d5-f4313d7f0173",
   "metadata": {},
   "outputs": [],
   "source": [
    "import ValidationDataPreProcessing as datapre\n",
    "import pickle"
   ]
  },
  {
   "cell_type": "code",
   "execution_count": 4,
   "id": "4b625f7a-b6c3-49aa-95f6-15b7db4708bb",
   "metadata": {},
   "outputs": [],
   "source": [
    "df=datapre.pd.read_csv('./Training/data/credit_risk_dataset.csv')\n",
    "\n",
    "cr_emp_length_filtered, x_smote, y_smote=datapre.dataPreprocessing(df)"
   ]
  },
  {
   "cell_type": "code",
   "execution_count": 5,
   "id": "c54e9d42-a8ac-4fa0-9255-db7e69428c2c",
   "metadata": {},
   "outputs": [
    {
     "data": {
      "text/plain": [
       "(31660, 12)"
      ]
     },
     "execution_count": 5,
     "metadata": {},
     "output_type": "execute_result"
    }
   ],
   "source": [
    "cr_emp_length_filtered.shape"
   ]
  },
  {
   "cell_type": "code",
   "execution_count": 6,
   "id": "51228379-89d1-421a-b245-bcad7048d5d2",
   "metadata": {},
   "outputs": [
    {
     "data": {
      "text/plain": [
       "(49674, 16)"
      ]
     },
     "execution_count": 6,
     "metadata": {},
     "output_type": "execute_result"
    }
   ],
   "source": [
    "x_smote.shape"
   ]
  },
  {
   "cell_type": "code",
   "execution_count": 7,
   "id": "e6ff4f37-7096-40bb-bb2b-3ea47deb9852",
   "metadata": {},
   "outputs": [
    {
     "data": {
      "text/plain": [
       "(49674,)"
      ]
     },
     "execution_count": 7,
     "metadata": {},
     "output_type": "execute_result"
    }
   ],
   "source": [
    "y_smote.shape"
   ]
  },
  {
   "cell_type": "code",
   "execution_count": 8,
   "id": "77b88339-210f-4f6e-81a9-0e2ed673cca1",
   "metadata": {},
   "outputs": [],
   "source": [
    "with open('./Training/logistic_pd_model.pkl','rb') as file:\n",
    "    logit_model=pickle.load(file)"
   ]
  },
  {
   "cell_type": "code",
   "execution_count": 9,
   "id": "a4310693-476f-4978-9c12-3e82af02823b",
   "metadata": {},
   "outputs": [],
   "source": [
    "with open('./Training/rf_pd_model.pkl','rb') as file:\n",
    "    rf_model=pickle.load(file)"
   ]
  },
  {
   "cell_type": "code",
   "execution_count": 10,
   "id": "89c8033c-5285-4ef1-acde-75e551a72497",
   "metadata": {},
   "outputs": [],
   "source": [
    "with open('./Training/xgb_pd_model.pkl','rb') as file:\n",
    "    xgb_model=pickle.load(file)"
   ]
  },
  {
   "cell_type": "code",
   "execution_count": 16,
   "id": "7736f748-2186-42d6-98b5-06f4087a9e44",
   "metadata": {},
   "outputs": [
    {
     "data": {
      "text/plain": [
       "(49674,)"
      ]
     },
     "execution_count": 16,
     "metadata": {},
     "output_type": "execute_result"
    }
   ],
   "source": [
    "logit_model_prediction=logit_model.predict(x_smote)\n",
    "logit_model_prediction.shape"
   ]
  },
  {
   "cell_type": "code",
   "execution_count": null,
   "id": "af0430cb-bbff-4095-b783-d0afd70344c5",
   "metadata": {},
   "outputs": [],
   "source": []
  }
 ],
 "metadata": {
  "kernelspec": {
   "display_name": "Python 3 (ipykernel)",
   "language": "python",
   "name": "python3"
  },
  "language_info": {
   "codemirror_mode": {
    "name": "ipython",
    "version": 3
   },
   "file_extension": ".py",
   "mimetype": "text/x-python",
   "name": "python",
   "nbconvert_exporter": "python",
   "pygments_lexer": "ipython3",
   "version": "3.10.10"
  }
 },
 "nbformat": 4,
 "nbformat_minor": 5
}
