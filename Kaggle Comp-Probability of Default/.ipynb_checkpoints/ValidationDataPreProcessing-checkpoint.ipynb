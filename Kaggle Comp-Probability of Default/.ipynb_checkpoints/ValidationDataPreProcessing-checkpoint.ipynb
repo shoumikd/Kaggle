{
 "cells": [
  {
   "cell_type": "code",
   "execution_count": 8,
   "id": "726dd147-60a6-4067-b44b-7951c2051f3b",
   "metadata": {},
   "outputs": [],
   "source": [
    "import pandas as pd\n",
    "import numpy as np\n",
    "import seaborn as sns\n",
    "from imblearn.over_sampling import SMOTE\n",
    "from sklearn.model_selection import train_test_split\n",
    "from sklearn.linear_model import LogisticRegression\n",
    "from sklearn.metrics import classification_report\n",
    "from sklearn.compose import ColumnTransformer\n",
    "from sklearn.preprocessing import StandardScaler, OneHotEncoder, LabelEncoder"
   ]
  },
  {
   "cell_type": "code",
   "execution_count": 9,
   "id": "1eb37547-5b99-4395-9cc4-ffd06115e481",
   "metadata": {},
   "outputs": [],
   "source": [
    "def dataPreprocessing(df):\n",
    "    \n",
    "    # Handling Outliers\n",
    "    cr_copy=df.copy()\n",
    "    age_filter=cr_copy['person_age']<=68\n",
    "    cr_age_filtered=cr_copy[age_filter]\n",
    "    emp_length_filter=cr_age_filtered['person_emp_length']<=47\n",
    "    cr_emp_length_filtered=cr_age_filtered[emp_length_filter]\n",
    "    cr_emp_length_filtered.reset_index(drop=True,inplace=True)\n",
    "\n",
    "    #Simple Imputation of Numerical Data\n",
    "    cr_int_rate_filled=cr_emp_length_filtered.copy()\n",
    "    cr_int_rate_filled=cr_int_rate_filled.fillna({'loan_int_rate':cr_int_rate_filled['loan_int_rate'].mean()})\n",
    "    cr_loan_grade_rmvd=cr_int_rate_filled.drop('loan_grade',axis=1)\n",
    "\n",
    "    \n",
    "    #Encoding Of Categorical Data\n",
    "    cr_loan_cat_treated=cr_loan_grade_rmvd.copy()\n",
    "    categorical_columns=cr_loan_cat_treated.select_dtypes(include=['object']).columns.to_list\n",
    "    one_hot_encoding_columns=['person_home_ownership', 'loan_intent']\n",
    "    binary_encoding_columns=['cb_person_default_on_file']\n",
    "    \n",
    "    #1. One Hot Encoding of Categorical Columns\n",
    "    ohe=OneHotEncoder(sparse_output=False)\n",
    "    one_hot_encoded=ohe.fit_transform(cr_loan_cat_treated[one_hot_encoding_columns])\n",
    "    cr_ohe=pd.DataFrame(one_hot_encoded, columns=ohe.get_feature_names_out(one_hot_encoding_columns))\n",
    "    cr_loan_cat_treated = pd.concat([cr_loan_cat_treated, cr_ohe], axis=1)\n",
    "\n",
    "    #2. Label Encoding/ Binary Encoding of Binary Columns\n",
    "    cr_loan_bin_treated=cr_loan_cat_treated.copy()\n",
    "    cr_loan_bin_treated[binary_encoding_columns]=np.where((cr_loan_bin_treated[binary_encoding_columns])=='Y',1,0)\n",
    "    \n",
    "\n",
    "    #Standardization of Numerical Data\n",
    "    cr_loan_scaled=cr_loan_bin_treated.copy()\n",
    "    scale_columns=['person_age','person_income','person_emp_length','loan_amnt','loan_int_rate','loan_percent_income','cb_person_cred_hist_length']\n",
    "    cr_loan_scaled[scale_columns] = StandardScaler().fit_transform(cr_loan_scaled[scale_columns])\n",
    "\n",
    "    \n",
    "    #Drop Non Required Columns\n",
    "    dropColumns=['person_home_ownership','loan_intent','person_home_ownership_OTHER','loan_intent_DEBTCONSOLIDATION']\n",
    "    cr_loan_processed=cr_loan_scaled.copy()\n",
    "    cr_loan_processed= cr_loan_processed.drop(dropColumns, axis=1)\n",
    "\n",
    "    #Handling Under-Samplimg\n",
    "    smote=SMOTE()\n",
    "    independent=cr_loan_processed.drop('loan_status', axis=1)\n",
    "    dependent=cr_loan_processed['loan_status']\n",
    "    x_smote, y_smote=smote.fit_resample(independent,dependent)\n",
    "\n",
    "    return cr_emp_length_filtered, x_smote, y_smote"
   ]
  },
  {
   "cell_type": "code",
   "execution_count": 10,
   "id": "77674be9-e4c9-4a64-9d3e-3e2b52d9b77a",
   "metadata": {},
   "outputs": [],
   "source": [
    "df=pd.read_csv('./Training/data/credit_risk_dataset.csv')\n",
    "\n",
    "cr_emp_length_filtered, x_smote, y_smote=dataPreprocessing(df)"
   ]
  },
  {
   "cell_type": "code",
   "execution_count": 11,
   "id": "145e192a-6eec-4f69-ba87-734daebd85e5",
   "metadata": {},
   "outputs": [
    {
     "data": {
      "text/plain": [
       "(31660, 12)"
      ]
     },
     "execution_count": 11,
     "metadata": {},
     "output_type": "execute_result"
    }
   ],
   "source": [
    "cr_emp_length_filtered.shape"
   ]
  },
  {
   "cell_type": "code",
   "execution_count": 12,
   "id": "0e2811ef-1cec-4616-b3fd-09e278d4bf9b",
   "metadata": {},
   "outputs": [
    {
     "data": {
      "text/plain": [
       "(49674, 16)"
      ]
     },
     "execution_count": 12,
     "metadata": {},
     "output_type": "execute_result"
    }
   ],
   "source": [
    "x_smote.shape"
   ]
  },
  {
   "cell_type": "code",
   "execution_count": 13,
   "id": "c4ad9415-2479-4211-9415-83a5fafa100d",
   "metadata": {},
   "outputs": [
    {
     "data": {
      "text/plain": [
       "(49674,)"
      ]
     },
     "execution_count": 13,
     "metadata": {},
     "output_type": "execute_result"
    }
   ],
   "source": [
    "y_smote.shape"
   ]
  },
  {
   "cell_type": "code",
   "execution_count": null,
   "id": "a97d2cff-eb48-4a04-893c-eae489a076ac",
   "metadata": {},
   "outputs": [],
   "source": []
  }
 ],
 "metadata": {
  "kernelspec": {
   "display_name": "Python 3 (ipykernel)",
   "language": "python",
   "name": "python3"
  },
  "language_info": {
   "codemirror_mode": {
    "name": "ipython",
    "version": 3
   },
   "file_extension": ".py",
   "mimetype": "text/x-python",
   "name": "python",
   "nbconvert_exporter": "python",
   "pygments_lexer": "ipython3",
   "version": "3.10.10"
  }
 },
 "nbformat": 4,
 "nbformat_minor": 5
}
