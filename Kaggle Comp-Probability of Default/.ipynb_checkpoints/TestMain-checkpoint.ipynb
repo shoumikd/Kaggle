{
 "cells": [
  {
   "cell_type": "code",
   "execution_count": 1,
   "id": "f6f016c6-64d2-4f15-99d5-f4313d7f0173",
   "metadata": {},
   "outputs": [],
   "source": [
    "import ValidationDataPreProcessing as datapre\n",
    "import pickle"
   ]
  },
  {
   "cell_type": "code",
   "execution_count": 2,
   "id": "4b625f7a-b6c3-49aa-95f6-15b7db4708bb",
   "metadata": {},
   "outputs": [],
   "source": [
    "df=datapre.pd.read_csv('./Training/data/credit_risk_dataset.csv')\n",
    "\n",
    "cr_emp_length_filtered, x_smote, y_smote=datapre.dataPreprocessing(df)"
   ]
  },
  {
   "cell_type": "code",
   "execution_count": null,
   "id": "c54e9d42-a8ac-4fa0-9255-db7e69428c2c",
   "metadata": {},
   "outputs": [],
   "source": []
  },
  {
   "cell_type": "code",
   "execution_count": null,
   "id": "51228379-89d1-421a-b245-bcad7048d5d2",
   "metadata": {},
   "outputs": [],
   "source": []
  },
  {
   "cell_type": "code",
   "execution_count": null,
   "id": "e6ff4f37-7096-40bb-bb2b-3ea47deb9852",
   "metadata": {},
   "outputs": [],
   "source": []
  }
 ],
 "metadata": {
  "kernelspec": {
   "display_name": "Python 3 (ipykernel)",
   "language": "python",
   "name": "python3"
  },
  "language_info": {
   "codemirror_mode": {
    "name": "ipython",
    "version": 3
   },
   "file_extension": ".py",
   "mimetype": "text/x-python",
   "name": "python",
   "nbconvert_exporter": "python",
   "pygments_lexer": "ipython3",
   "version": "3.10.10"
  }
 },
 "nbformat": 4,
 "nbformat_minor": 5
}
