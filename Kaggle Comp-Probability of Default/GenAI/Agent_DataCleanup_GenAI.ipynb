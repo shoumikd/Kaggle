{
 "cells": [
  {
   "cell_type": "code",
   "execution_count": 1,
   "id": "b26d0ecf-1958-49cb-86ee-81854116ced9",
   "metadata": {},
   "outputs": [
    {
     "ename": "ModuleNotFoundError",
     "evalue": "No module named 'langchain'",
     "output_type": "error",
     "traceback": [
      "\u001b[1;31m---------------------------------------------------------------------------\u001b[0m",
      "\u001b[1;31mModuleNotFoundError\u001b[0m                       Traceback (most recent call last)",
      "Cell \u001b[1;32mIn[1], line 3\u001b[0m\n\u001b[0;32m      1\u001b[0m \u001b[38;5;28;01mimport\u001b[39;00m \u001b[38;5;21;01mpandas\u001b[39;00m \u001b[38;5;28;01mas\u001b[39;00m \u001b[38;5;21;01mpd\u001b[39;00m\n\u001b[0;32m      2\u001b[0m \u001b[38;5;28;01mimport\u001b[39;00m \u001b[38;5;21;01mos\u001b[39;00m\n\u001b[1;32m----> 3\u001b[0m \u001b[38;5;28;01mfrom\u001b[39;00m \u001b[38;5;21;01mlangchain\u001b[39;00m\u001b[38;5;21;01m.\u001b[39;00m\u001b[38;5;21;01mllms\u001b[39;00m \u001b[38;5;28;01mimport\u001b[39;00m HuggingFacePipeline\n\u001b[0;32m      4\u001b[0m \u001b[38;5;28;01mfrom\u001b[39;00m \u001b[38;5;21;01mlangchain\u001b[39;00m\u001b[38;5;21;01m.\u001b[39;00m\u001b[38;5;21;01mprompts\u001b[39;00m \u001b[38;5;28;01mimport\u001b[39;00m PromptTemplate\n\u001b[0;32m      5\u001b[0m \u001b[38;5;28;01mfrom\u001b[39;00m \u001b[38;5;21;01mlangchain\u001b[39;00m\u001b[38;5;21;01m.\u001b[39;00m\u001b[38;5;21;01mchains\u001b[39;00m \u001b[38;5;28;01mimport\u001b[39;00m LLMChain\n",
      "\u001b[1;31mModuleNotFoundError\u001b[0m: No module named 'langchain'"
     ]
    }
   ],
   "source": [
    "import pandas as pd\n",
    "import os\n",
    "from langchain.llms import HuggingFacePipeline\n",
    "from langchain.prompts import PromptTemplate\n",
    "from langchain.chains import LLMChain\n",
    "from transformers import pipeline\n",
    "from huggingface_hub import login"
   ]
  },
  {
   "cell_type": "markdown",
   "id": "1febf9fd-a417-42e8-b4f2-ccecdf6ffbc6",
   "metadata": {},
   "source": [
    "### Load the dataset"
   ]
  },
  {
   "cell_type": "code",
   "execution_count": 2,
   "id": "5c5e0bd4-7ec6-4339-adb8-0664dac7e0b2",
   "metadata": {},
   "outputs": [
    {
     "name": "stdout",
     "output_type": "stream",
     "text": [
      "Absolute Path: C:\\Users\\pups_\\SHOUMIK\\Workspaces\\Workspaces_Python_20240107\\Projects\\Kaggle Comp-Probability of Default\\Training\\data\\credit_risk_dataset.csv\n"
     ]
    },
    {
     "data": {
      "text/plain": [
       "(32581, 12)"
      ]
     },
     "execution_count": 2,
     "metadata": {},
     "output_type": "execute_result"
    }
   ],
   "source": [
    "file_path = \"..\\\\Training\\\\data\\\\credit_risk_dataset.csv\"\n",
    "print(\"Absolute Path:\",os.path.abspath(file_path))\n",
    "\n",
    "df = pd.read_csv(file_path)\n",
    "df.shape"
   ]
  },
  {
   "cell_type": "markdown",
   "id": "99bfff38-2cb0-47ce-a428-2ebef10d8c7c",
   "metadata": {},
   "source": [
    "### Retrieve Hugging Face Token"
   ]
  },
  {
   "cell_type": "code",
   "execution_count": 4,
   "id": "ead9708f-686f-4291-90f3-bad13c25fbea",
   "metadata": {},
   "outputs": [
    {
     "ename": "NameError",
     "evalue": "name 'login' is not defined",
     "output_type": "error",
     "traceback": [
      "\u001b[1;31m---------------------------------------------------------------------------\u001b[0m",
      "\u001b[1;31mNameError\u001b[0m                                 Traceback (most recent call last)",
      "Cell \u001b[1;32mIn[4], line 2\u001b[0m\n\u001b[0;32m      1\u001b[0m \u001b[38;5;66;03m# Log in to Hugging Face\u001b[39;00m\n\u001b[1;32m----> 2\u001b[0m login(hf_token)\n",
      "\u001b[1;31mNameError\u001b[0m: name 'login' is not defined"
     ]
    }
   ],
   "source": [
    "\n",
    "\n",
    "# Log in to Hugging Face\n",
    "login(hf_token)\n",
    "\n"
   ]
  },
  {
   "cell_type": "markdown",
   "id": "05c89344-88ca-4d1c-bcbc-328d6963a2e3",
   "metadata": {},
   "source": [
    "### Load Generative AI Model\n",
    "###### LLaMA3 model"
   ]
  },
  {
   "cell_type": "code",
   "execution_count": null,
   "id": "e4a46e36-2330-4bd0-982f-c1c88debc9d2",
   "metadata": {},
   "outputs": [],
   "source": [
    "model_llama = \"meta-llama/Llama-3.1-70B\"\n",
    "#pipeline_llama = pipeline(task=\"text-generation\", model= model_llama,token=hf_token)\n",
    "#llm = HuggingFacePipeline(pipeline=llama_pipeline)\n",
    "\n",
    "model_falcon = \"tiiuae/falcon-7b-instruct\"\n",
    "#pipeline_falcon = pipeline(task=\"text-generation\", model= model_falcon, max_length=2048, temperature=0.5)\n",
    "\n",
    "model_mistral=\"mistralai/Mistral-7B-Instruct-v0.1\"\n",
    "pipeline_mistral = pipeline(task= \"text-generation\", model= model_mistral, use_auth_token= hf_token, device_map=\"auto\", trust_remote_code=True)\n",
    "#llm = HuggingFacePipeline(pipeline=pipeline_mistral)"
   ]
  },
  {
   "cell_type": "code",
   "execution_count": null,
   "id": "65ff1506-7682-4b87-9884-07d23107efca",
   "metadata": {},
   "outputs": [],
   "source": [
    "cleanup_prompt = \"\"\"\n",
    "You are an expert data scientist and a data cleanup agent.\n",
    "Given the following dataset summary, suggest the best steps for cleaning the data.\n",
    "\n",
    "Dataset summary:\n",
    "{data_summary}\n",
    "\n",
    "Respond with specific cleanup steps in Python code.\n",
    "\"\"\"\n",
    "\n",
    "# Prepare dataset summary\n",
    "data_summary = df.describe(include='all').to_string()\n",
    "print(data_summary)\n",
    "\n",
    "# Create the prompt template\n",
    "prompt = PromptTemplate(input_variables=[\"data_summary\"],template=cleanup_prompt)\n",
    "print(prompt)\n",
    "\n",
    "# Create an LLMChain to run the prompt\n",
    "cleanup_agent = LLMChain(llm=llm, prompt=prompt)\n",
    "\n",
    "# Get cleanup suggestions from LLaMA 3\n",
    "#cleanup_instructions = cleanup_agent.run(data_summary)\n",
    "#cleanup_instructions = cleanup_agent.invoke(data_summary)\n",
    "# print(\"LLaMA 3 Cleanup Instructions:\\n\")\n",
    "# print(cleanup_instructions)"
   ]
  },
  {
   "cell_type": "code",
   "execution_count": null,
   "id": "b7e71b1b-c8d2-4368-a8be-5349bd748b4c",
   "metadata": {},
   "outputs": [],
   "source": []
  }
 ],
 "metadata": {
  "kernelspec": {
   "display_name": "Python 3 (ipykernel)",
   "language": "python",
   "name": "python3"
  },
  "language_info": {
   "codemirror_mode": {
    "name": "ipython",
    "version": 3
   },
   "file_extension": ".py",
   "mimetype": "text/x-python",
   "name": "python",
   "nbconvert_exporter": "python",
   "pygments_lexer": "ipython3",
   "version": "3.12.9"
  }
 },
 "nbformat": 4,
 "nbformat_minor": 5
}
